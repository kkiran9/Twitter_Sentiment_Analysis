{
 "cells": [
  {
   "cell_type": "code",
   "execution_count": 2,
   "metadata": {},
   "outputs": [
    {
     "name": "stderr",
     "output_type": "stream",
     "text": [
      "Using TensorFlow backend.\n"
     ]
    }
   ],
   "source": [
    "import pandas as pd\n",
    "import numpy as np\n",
    "import re\n",
    "\n",
    "from sklearn.model_selection import train_test_split\n",
    "from sklearn.feature_extraction.text import CountVectorizer, TfidfVectorizer\n",
    "from sklearn.decomposition import TruncatedSVD\n",
    "from sklearn.discriminant_analysis import LinearDiscriminantAnalysis\n",
    "\n",
    "#import nltk\n",
    "#from nltk.corpus import stopwords\n",
    "\n",
    "import keras\n",
    "from keras.layers import Dense\n",
    "from keras.models import Sequential\n",
    "from keras import optimizers"
   ]
  },
  {
   "cell_type": "code",
   "execution_count": 3,
   "metadata": {
    "collapsed": true,
    "scrolled": false
   },
   "outputs": [],
   "source": [
    "\"\"\"Pass the dataset with data in the format: class:content\"\"\"\n",
    "\"\"\"Text pre-processing: Removing links, special characters, and digits. df_column[1] is also converted into lower case\"\"\"\n",
    "def preprocess_dataset(df, df_column):\n",
    "    df[df_column[1]] = df[df_column[1]].str.replace('https?:\\/\\/.*[\\r\\n]*', ' ')\n",
    "\n",
    "    df[df_column[1]] = df[df_column[1]].str.replace('[^a-zA-Z0-9 \\n]', ' ')\n",
    "\n",
    "    df[df_column[1]] = df[df_column[1]].str.replace('\\d+', ' ')\n",
    "\n",
    "    df[df_column[1]] = df[df_column[1]].str.lower()\n",
    "    return df"
   ]
  },
  {
   "cell_type": "code",
   "execution_count": 4,
   "metadata": {
    "collapsed": true
   },
   "outputs": [],
   "source": [
    "\"\"\"To label the sentiment classes using integers. Not to be used for the neural network\"\"\"\n",
    "def to_categorical(df):\n",
    "    df.sentiment = pd.Categorical(df.sentiment)\n",
    "    df['class'] = df.sentiment.cat.codes\n",
    "    return df['class']"
   ]
  },
  {
   "cell_type": "code",
   "execution_count": 5,
   "metadata": {
    "collapsed": true
   },
   "outputs": [],
   "source": [
    "\"\"\"Function returns the one-hot representation of the sentiment classes\"\"\"\n",
    "def to_OneHot(df, df_columns):\n",
    "    b = pd.get_dummies(df[df_column[0]], prefix=\"\")\n",
    "    list1 = list(b)\n",
    "    OneHot = b[list1[0]]\n",
    "    OneHot = np.column_stack(b[list1[i]] for i in range(len(list1)))\n",
    "    print(len(list1))\n",
    "    print(OneHot)\n",
    "    return OneHot"
   ]
  },
  {
   "cell_type": "code",
   "execution_count": 6,
   "metadata": {
    "collapsed": true
   },
   "outputs": [],
   "source": [
    "  \"\"\"Labels can be either to_OneHot function return value or to_categorical function return value\"\"\"\n",
    "def split_train_test(df, df_column, labels, test_split = 0.2):\n",
    "    X_train, X_test, y_train, y_test = train_test_split(df[df_column[1]], labels, test_size = test_split, random_state = 10)\n",
    "    return X_train, X_test, y_train, y_test"
   ]
  },
  {
   "cell_type": "markdown",
   "metadata": {},
   "source": [
    "# CountVectorizer(BOW)"
   ]
  },
  {
   "cell_type": "code",
   "execution_count": 7,
   "metadata": {
    "collapsed": true
   },
   "outputs": [],
   "source": [
    "\"\"\"Representing the pre-processed dataset as a bag of words\"\"\"\n",
    "def to_bow(X_train, X_test, ngram_lower, ngram_upper, to_lower):\n",
    "    vect = CountVectorizer(ngram_range=(ngram_lower,ngram_upper), stop_words='english', lowercase=to_lower)\n",
    "    vect.fit_transform(X_train)\n",
    "    return vect.transform(X_train), vect.transform(X_test)  #\"\"\"X_train_cv, etc\"\"\""
   ]
  },
  {
   "cell_type": "markdown",
   "metadata": {},
   "source": [
    "# LDA"
   ]
  },
  {
   "cell_type": "code",
   "execution_count": 8,
   "metadata": {
    "collapsed": true
   },
   "outputs": [],
   "source": [
    "\"\"\"y_train must be in categorically labelled form\"\"\"\n",
    "def eval_LDA(X_train, X_test, y_train, n_comp=2):\n",
    "    lda = LinearDiscriminantAnalysis(n_components=2)\n",
    "    lda.fit_transform(X_train.toarray(), y_train)\n",
    "    X_train_df = lda.transform(X_train)\n",
    "    X_test_df = lda.transform(X_test)"
   ]
  },
  {
   "cell_type": "markdown",
   "metadata": {},
   "source": [
    "# TruncatedSVD\n",
    "\n",
    "###### Maxm value of reduced feature set ~ 700 "
   ]
  },
  {
   "cell_type": "code",
   "execution_count": 9,
   "metadata": {
    "collapsed": true
   },
   "outputs": [],
   "source": [
    "\"\"\"PCA won't work here\"\"\"\n",
    "def trunSVD(X_train_transform, X_test_transform, nf = 784, n_iterations = 5 ):\n",
    "    svd = TruncatedSVD(n_components=nf, n_iter = n_iterations)\n",
    "    svd.fit_transform(X_train_transform)\n",
    "    return svd.transform(X_train_transform), svd.transform(X_test_transform)"
   ]
  },
  {
   "cell_type": "markdown",
   "metadata": {},
   "source": [
    "# TFIDF"
   ]
  },
  {
   "cell_type": "code",
   "execution_count": 10,
   "metadata": {
    "collapsed": true
   },
   "outputs": [],
   "source": [
    "def tfidf(X_train, X_test, ngram_lower = 1, ngram_upper = 1):\n",
    "    tfidfvect = TfidfVectorizer(ngram_range=(ngram_lower,ngram_upper), stop_words='english')\n",
    "    tfidfvect.fit_transform(X_train)\n",
    "    return tfidfvect.transform(X_train), tfidfvect.transform(X_test)"
   ]
  },
  {
   "cell_type": "markdown",
   "metadata": {},
   "source": [
    "# Model"
   ]
  },
  {
   "cell_type": "code",
   "execution_count": 36,
   "metadata": {},
   "outputs": [],
   "source": [
    "def model_train(X_train, y_train, batch_size = 15, nb_epoch = 15 ,optimizer = 'adam', loss = 'categorical_crossentropy', activation='tanh', hidden_neurons = 30):\n",
    "    model = Sequential()\n",
    "    model.add(Dense(units = 784,input_dim=X_train.shape[1], activation = activation))\n",
    "    model.add(Dense(hidden_neurons, activation = activation))\n",
    "    model.add(Dense(classes, activation = 'softmax'))\n",
    "    model.compile(optimizer = optimizer, loss= loss, metrics = ['accuracy'])\n",
    "    model.fit(X_train, y_train, batch_size = batch_size, nb_epoch = nb_epoch, verbose = 1)\n",
    "    return model"
   ]
  },
  {
   "cell_type": "code",
   "execution_count": 34,
   "metadata": {
    "scrolled": true
   },
   "outputs": [],
   "source": [
    "def eval_model(X_test, y_test, model):\n",
    "    scores = model.evaluate(X_test, y_test)\n",
    "    print(\"\\n%s: %.2f%%\" % (model.metrics_names[1], scores[1]*100))"
   ]
  },
  {
   "cell_type": "markdown",
   "metadata": {},
   "source": [
    "# Testing"
   ]
  },
  {
   "cell_type": "code",
   "execution_count": 11,
   "metadata": {
    "scrolled": true
   },
   "outputs": [
    {
     "data": {
      "text/html": [
       "<div>\n",
       "<style>\n",
       "    .dataframe thead tr:only-child th {\n",
       "        text-align: right;\n",
       "    }\n",
       "\n",
       "    .dataframe thead th {\n",
       "        text-align: left;\n",
       "    }\n",
       "\n",
       "    .dataframe tbody tr th {\n",
       "        vertical-align: top;\n",
       "    }\n",
       "</style>\n",
       "<table border=\"1\" class=\"dataframe\">\n",
       "  <thead>\n",
       "    <tr style=\"text-align: right;\">\n",
       "      <th></th>\n",
       "      <th>sentiment</th>\n",
       "      <th>content</th>\n",
       "    </tr>\n",
       "  </thead>\n",
       "  <tbody>\n",
       "    <tr>\n",
       "      <th>0</th>\n",
       "      <td>empty</td>\n",
       "      <td>@tiffanylue i know  i was listenin to bad habi...</td>\n",
       "    </tr>\n",
       "    <tr>\n",
       "      <th>1</th>\n",
       "      <td>sadness</td>\n",
       "      <td>Layin n bed with a headache  ughhhh...waitin o...</td>\n",
       "    </tr>\n",
       "    <tr>\n",
       "      <th>2</th>\n",
       "      <td>sadness</td>\n",
       "      <td>Funeral ceremony...gloomy friday...</td>\n",
       "    </tr>\n",
       "    <tr>\n",
       "      <th>3</th>\n",
       "      <td>enthusiasm</td>\n",
       "      <td>wants to hang out with friends SOON!</td>\n",
       "    </tr>\n",
       "    <tr>\n",
       "      <th>4</th>\n",
       "      <td>neutral</td>\n",
       "      <td>@dannycastillo We want to trade with someone w...</td>\n",
       "    </tr>\n",
       "  </tbody>\n",
       "</table>\n",
       "</div>"
      ],
      "text/plain": [
       "    sentiment                                            content\n",
       "0       empty  @tiffanylue i know  i was listenin to bad habi...\n",
       "1     sadness  Layin n bed with a headache  ughhhh...waitin o...\n",
       "2     sadness                Funeral ceremony...gloomy friday...\n",
       "3  enthusiasm               wants to hang out with friends SOON!\n",
       "4     neutral  @dannycastillo We want to trade with someone w..."
      ]
     },
     "execution_count": 11,
     "metadata": {},
     "output_type": "execute_result"
    }
   ],
   "source": [
    "df = pd.read_csv('./Datasets/Twitter Sentiment Analysis/train_data.csv')\n",
    "df_column = list(df)      #Names of the columns of the dataframe\n",
    "classes = df[df_column[0]].unique().size #Number of distinct classes for the dataset. 13 for the given dataset\n",
    "df.head()"
   ]
  },
  {
   "cell_type": "code",
   "execution_count": 12,
   "metadata": {
    "collapsed": true
   },
   "outputs": [],
   "source": [
    "df = preprocess_dataset(df, df_column)"
   ]
  },
  {
   "cell_type": "code",
   "execution_count": 13,
   "metadata": {},
   "outputs": [
    {
     "name": "stdout",
     "output_type": "stream",
     "text": [
      "13\n",
      "[[0 0 1 ..., 0 0 0]\n",
      " [0 0 0 ..., 1 0 0]\n",
      " [0 0 0 ..., 1 0 0]\n",
      " ..., \n",
      " [0 0 0 ..., 0 0 0]\n",
      " [0 0 0 ..., 0 0 0]\n",
      " [0 0 0 ..., 0 0 0]]\n"
     ]
    }
   ],
   "source": [
    "X_train, X_test, y_train, y_test = split_train_test(df, df_column, to_OneHot(df, df_column))"
   ]
  },
  {
   "cell_type": "code",
   "execution_count": 14,
   "metadata": {
    "collapsed": true
   },
   "outputs": [],
   "source": [
    "X_train, X_test = tfidf(X_train, X_test, 1, 1)"
   ]
  },
  {
   "cell_type": "code",
   "execution_count": 15,
   "metadata": {
    "collapsed": true
   },
   "outputs": [],
   "source": [
    "# X_train, X_test = eval_LDA(X_train.toarray(), X_test.toarray(), y_train, 2)"
   ]
  },
  {
   "cell_type": "code",
   "execution_count": 16,
   "metadata": {
    "collapsed": true
   },
   "outputs": [],
   "source": [
    "X_train, X_test = trunSVD(X_train, X_test)"
   ]
  },
  {
   "cell_type": "code",
   "execution_count": 38,
   "metadata": {},
   "outputs": [
    {
     "name": "stderr",
     "output_type": "stream",
     "text": [
      "C:\\Users\\lenovo\\Anaconda2\\envs\\tensorflow\\lib\\site-packages\\keras\\models.py:844: UserWarning: The `nb_epoch` argument in `fit` has been renamed `epochs`.\n",
      "  warnings.warn('The `nb_epoch` argument in `fit` '\n"
     ]
    },
    {
     "name": "stdout",
     "output_type": "stream",
     "text": [
      "Epoch 1/1\n",
      "24000/24000 [==============================] - 27s - loss: 1.9719 - acc: 0.3077    \n"
     ]
    }
   ],
   "source": [
    "model = model_train(X_train, y_train)"
   ]
  },
  {
   "cell_type": "code",
   "execution_count": 39,
   "metadata": {},
   "outputs": [
    {
     "name": "stdout",
     "output_type": "stream",
     "text": [
      "5728/6000 [===========================>..] - ETA: 0s\n",
      "acc: 33.87%\n"
     ]
    }
   ],
   "source": [
    "eval_model(X_test, y_test, model)"
   ]
  },
  {
   "cell_type": "code",
   "execution_count": null,
   "metadata": {
    "collapsed": true
   },
   "outputs": [],
   "source": []
  }
 ],
 "metadata": {
  "kernelspec": {
   "display_name": "Python 3",
   "language": "python",
   "name": "python3"
  },
  "language_info": {
   "codemirror_mode": {
    "name": "ipython",
    "version": 3
   },
   "file_extension": ".py",
   "mimetype": "text/x-python",
   "name": "python",
   "nbconvert_exporter": "python",
   "pygments_lexer": "ipython3",
   "version": "3.5.3"
  }
 },
 "nbformat": 4,
 "nbformat_minor": 2
}
